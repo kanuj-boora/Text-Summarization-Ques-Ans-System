{
 "cells": [
  {
   "cell_type": "code",
   "execution_count": 16,
   "metadata": {},
   "outputs": [],
   "source": [
    "import nltk\n",
    "import math"
   ]
  },
  {
   "cell_type": "code",
   "execution_count": 17,
   "metadata": {},
   "outputs": [],
   "source": [
    "def create_frequency_matrix(sentences) :\n",
    "    frequency_matrix = {}\n",
    "    stopWords = set(nltk.corpus.stopwords.words(\"english\"))\n",
    "    ps = nltk.PorterStemmer()\n",
    "    \n",
    "    for sent in sentences :\n",
    "        freq_table = {}\n",
    "        words = nltk.word_tokenize(sent)\n",
    "        for word in words :\n",
    "            word = ps.stem(word.lower())\n",
    "            if word in stopWords :\n",
    "                continue\n",
    "            if word in freq_table :\n",
    "                freq_table[word] += 1\n",
    "            else :\n",
    "                freq_table[word] = 1\n",
    "        frequency_matrix[sent[:15]] = freq_table\n",
    "    \n",
    "    return frequency_matrix\n",
    "        "
   ]
  },
  {
   "cell_type": "code",
   "execution_count": 18,
   "metadata": {},
   "outputs": [],
   "source": [
    "def create_tf_matrix(freq_matrix) :\n",
    "    tf_matrix = {}\n",
    "    \n",
    "    for sent, f_table in freq_matrix.items() :\n",
    "        tf_table = {}\n",
    "        \n",
    "        count_words_in_sentences = len(f_table)\n",
    "        for word, count in f_table.items() :\n",
    "            tf_table[word] = count / count_words_in_sentences\n",
    "            \n",
    "        tf_matrix[sent] = tf_table\n",
    "    \n",
    "    return tf_matrix"
   ]
  },
  {
   "cell_type": "code",
   "execution_count": 19,
   "metadata": {},
   "outputs": [],
   "source": [
    "def create_documents_per_words (freq_matrix) :\n",
    "    word_per_doc_table = {}\n",
    "    \n",
    "    for sent, f_table in freq_matrix.items() :\n",
    "        for word, count in f_table.items() :\n",
    "            if word in word_per_doc_table :\n",
    "                word_per_doc_table[word] += 1\n",
    "            else :\n",
    "                word_per_doc_table[word] = 1\n",
    "                \n",
    "    return word_per_doc_table"
   ]
  },
  {
   "cell_type": "code",
   "execution_count": 20,
   "metadata": {},
   "outputs": [],
   "source": [
    "def create_idf_matrix(freq_matrix, count_doc_per_words, total_documents):\n",
    "    idf_matrix = {}\n",
    "\n",
    "    for sent, f_table in freq_matrix.items():\n",
    "        idf_table = {}\n",
    "\n",
    "        for word in f_table.keys():\n",
    "            idf_table[word] = math.log10(total_documents / float(count_doc_per_words[word]))\n",
    "\n",
    "        idf_matrix[sent] = idf_table\n",
    "\n",
    "    return idf_matrix"
   ]
  },
  {
   "cell_type": "code",
   "execution_count": 21,
   "metadata": {},
   "outputs": [],
   "source": [
    "def create_tf_idf_matrix(tf_matrix, idf_matrix):\n",
    "    tf_idf_matrix = {}\n",
    "\n",
    "    for (sent1, f_table1), (sent2, f_table2) in zip(tf_matrix.items(), idf_matrix.items()):\n",
    "\n",
    "        tf_idf_table = {}\n",
    "\n",
    "        for (word1, value1), (word2, value2) in zip(f_table1.items(), f_table2.items()):  # here, keys are the same in both the table\n",
    "            tf_idf_table[word1] = float(value1 * value2)\n",
    "\n",
    "        tf_idf_matrix[sent1] = tf_idf_table\n",
    "\n",
    "    return tf_idf_matrix"
   ]
  },
  {
   "cell_type": "code",
   "execution_count": 22,
   "metadata": {},
   "outputs": [],
   "source": [
    "def score_sentences(tf_idf_matrix) -> dict:\n",
    "    \"\"\"\n",
    "    score a sentence by its word's TF\n",
    "    Basic algorithm: adding the TF frequency of every non-stop word in a sentence divided by total no of words in a sentence.\n",
    "    :rtype: dict\n",
    "    \"\"\"\n",
    "\n",
    "    sentenceValue = {}\n",
    "\n",
    "    for sent, f_table in tf_idf_matrix.items():\n",
    "        total_score_per_sentence = 0\n",
    "\n",
    "        count_words_in_sentence = len(f_table)\n",
    "        for word, score in f_table.items():\n",
    "            total_score_per_sentence += score\n",
    "\n",
    "        sentenceValue[sent] = total_score_per_sentence / count_words_in_sentence\n",
    "\n",
    "    return sentenceValue"
   ]
  },
  {
   "cell_type": "code",
   "execution_count": 23,
   "metadata": {},
   "outputs": [],
   "source": [
    "def find_average_score(sentenceValue) -> int:\n",
    "    \"\"\"\n",
    "    Find the average score from the sentence value dictionary\n",
    "    :rtype: int\n",
    "    \"\"\"\n",
    "    sumValues = 0\n",
    "    for entry in sentenceValue:\n",
    "        sumValues += sentenceValue[entry]\n",
    "\n",
    "    # Average value of a sentence from original summary_text\n",
    "    average = (sumValues / len(sentenceValue))\n",
    "\n",
    "    return average"
   ]
  },
  {
   "cell_type": "code",
   "execution_count": 24,
   "metadata": {},
   "outputs": [],
   "source": [
    "\n",
    "def generate_summary(sentences, sentenceValue, threshold):\n",
    "    sentence_count = 0\n",
    "    summary = ''\n",
    "\n",
    "    for sentence in sentences:\n",
    "        if sentence[:15] in sentenceValue and sentenceValue[sentence[:15]] >= (threshold):\n",
    "            summary += \" \" + sentence\n",
    "            sentence_count += 1\n",
    "\n",
    "    return summary"
   ]
  },
  {
   "cell_type": "code",
   "execution_count": 25,
   "metadata": {},
   "outputs": [],
   "source": [
    "import os\n",
    "\n",
    "full_text = \"\"\n",
    "dir_path = \"./unlabelled_documents/\"\n",
    "\n",
    "i=0\n",
    "for file in os.listdir(dir_path) :\n",
    "    i += 1\n",
    "    if i == 141 :\n",
    "        break\n",
    "    f = open(dir_path+file,encoding=\"UTF-8\", errors=\"replace\")\n",
    "    text = f.read()\n",
    "    # dataset_file.write(text)\n",
    "    # text = text.decode(\"utf-8\",'ignore').encode(\"utf-8\")\n",
    "    full_text += text\n",
    "    f.close()\n",
    "  \n",
    "\n",
    "text = full_text\n",
    "# print(text)"
   ]
  },
  {
   "cell_type": "code",
   "execution_count": 26,
   "metadata": {},
   "outputs": [
    {
     "name": "stdout",
     "output_type": "stream",
     "text": [
      " The WHO has said there is still a chance of containing the virus if its chain of transmission is broken. The sudden increases of cases in Italy, the Islamic Republic of Iran and the Republic of Korea are deeply concerning. Editors Scott L. Greer, Elizabeth J. The vaccine is produced by the Beijing-based pharmaceutical company Sinovac. It also allows countries to expedite\n",
      "their own regulatory approval to import and administer COVID-19 vaccines. Emerging data on effectiveness indicates \n",
      "that licenced COVID-19vaccines are contributing to controlling the spread of the disease. The endemic stage is when a population learns to live with a virus. But how do the different types of COVID-19 vaccines work? Each COVID-19 vaccine causes the immune system to\n",
      "create antibodies to fight COVID-19. COVID-19 vaccines use a harmless version of a spikelike structure on the surface of the\n",
      "COVID-19 virus called an S protein. Mid-term review of the UN Decade of Action on Nutrition\n",
      "\n",
      "\n",
      "It is almost five years now since the Nutrition Decade was declared. It is time to reflect back on its achievements so far. FAO and WHO are convening an open and inclusive dialogue with stakeholders for the mid-term review of the Nutrition Decade. But that's not enough.\" Tocilizumab is the second drug ever recommended by the WHO for COVID-19 treatment after recommending dexamethasone in September 2020. urges wealthy countries to halt booster shots and send more doses to poorer nations. “The picture we have seen from some parts of the world of COVID-19 vaccines … in the garbage. Expired and unused. On the other hand, we see that triumph undone by the tragedy of a lack of political will, selfishness and mistrust. A surplus in some countries. Here is a summary of what is currently known. The available data suggest waning immunity in some populations who are fully vaccinated. The COVID-19 variant that emerged in South Africa was named after the 15th letter of the Greek alphabet. It also named it Omicron. It had detected a group of related SARS-CoV-2 viruses, which belong to a lineage named B.1.1.529. A lot of people and institutions have been saying they want to contribute to the fight against the novel coronavirus. Now they can.�Remarks by President Biden on Fighting the COVID-⁠19 Pandemic\n",
      "\n",
      "\n",
      "THE PRESIDENT:  Good evening, my fellow Americans. I want to talk to you about where we are in the battle against COVID-19, the progress we’ve made, and the work we have left to do. It will take a lot of hard work, and it’s going to take some time. The statistical significance of these results was high (p<0.0001). Here is an explanation of the differences in the two pills. Which of the new pills works better? Several countries have gone into lockdown to contain the fresh surge of cases. All businesses have a key role to play in minimising the likelihood of transmission and impact on society. The disease affects more than 230 million people, mostly in sub-Saharan Africa. Several of the initial cases were identified through six fever clinics in Beijing. Preliminary investigations revealed that some of the initial symptomatic cases had a link to the Xinfadi Market in Beijing. WHO discontinues hydroxychloroquine and lopinavir/ritonavir treatment arms for COVID-19\n",
      "\n",
      "WHO today accepted the recommendation from the Solidarity Trial�s International Steering Committee to discontinue the trial�s hydroxychloroquine and lopinavir/ritonavir arms. Solidarity trial investigators will interrupt the trials with immediate effect. For each of the drugs, the interim results do not provide solid evidence of increased mortality. These will also be reported in the peer-reviewed publication. The experts will develop the scope and TOR for a WHO-led international mission. A well planned series of scientific researches will advance the understanding of animal reservoirs and the route of transmission to humans. Healthcare workers rely on personal protective equipment to protect themselves and their patients from being infected and infecting others. �COVID-19 has taken so much from us. He issued the Committee�s advice to States Parties as Temporary Recommendations under the IHR. \"Many countries that believed they were past the worst are now grappling with new outbreaks. Some that were less affected in the earliest weeks are now seeing escalating numbers of cases and deaths. And some that had large outbreaks have brought them under control.\" �We must prioritize children�s learning. More than one third of these children (295 million) are from sub-Saharan Africa. �This tremendous show of support is also strengthening the relationship between WHO and the Republic of Korea. �The importance of an inclusive, pro-poor strategy cannot be underscored as the disease affects marginalized communities. \"COVID-19 should be a lesson to all countries that health is not an �either-or� equation. Ministry of Home Affairs issued new guidelines for opening up of more activities in areas outside the Containment Zones as part of Unlock 4, effective September 1, 2020. 18,862 crore has been spent so far in the pursuit of objectives of the Abhiyaan. Vice President calls for special care and support to elderly during pandemic and to reorient the health system to address specific needs of geriatric population. Health Secretary in a press conference advised on adopting COVID Appropriate Behaviors for all citizens including recovered patients. Principal Secretary to Prime Minister reviewed the COVID-19preparedness and response status in India. Health Secretary reviewed COVID-19 management strategies in the eight North-East states. Vice President stressed the need to identify opportunities in current pandemic for radical reforms in health sector through digital technology and Artificial Intelligence powered tools. Ministry of Home Affairs issued new guidelines for re-opening during Unlock 5.0. Minister of Health launched CSIR Technologies for rural development, a post COVID fast track action plan to create livelihood opportunities in rural areas. Vice President condemns the instances of stigma and discrimination against frontline warriors and COVID-19 patients. Minister of Health and Family Welfare shared information about India’s COVID-19 vaccination rollout strategy. Home Minister appealed to public to unite for PM’s public movement in fight against COVID-19. Minister of Health informed that a digital platform is being built to track COVID-19 vaccine administration and movement. Ministry of Education has issued guidelines for reopening of schools. Minister of Health chaired 21st meeting of Group of Ministers on COVID19 to review country’s preparedness and response. and Gujarat. But to be very frank, right now the world risks dropping the baton at the finish line. WHO faces an immediate US $20 million funding gap. If no new resources are received, we will run out of money before the end of the outbreak. We appreciate the generosity of donors who have supported the response since August 2018. Now we need to get over the finish line. Ministry of Home Affairs notified the guidelines for re-opening to remain in force till end of November. UGC issues guidelines for re-opening universities and colleges post lockdown. Goa postal division launches Special Cover and special cancellation regarding COVID-19 and mental health. Minister of Health called for engendering in the health workforce, a desire to make a real difference in the post-COVID world. Minister of Health ensures that the COVIN portal and network will assure last mile vaccine delivery. The severe spike in cases in the city has led to an explosion in demand for hospital beds. In some countries, the proportion can be as high as 35%. Thousands of health workers infected with COVID-19 have lost their lives worldwide. But the analysis found a striking difference in efficacy depending on the amount of vaccine delivered to a participant. A regimen consisting of 2 full doses given a month apart seemed to be just 62% effective. The changes you make will depend on where you live. Always follow your local or national guidelines. Tomorrow is World AIDS Day. The overall cumulative hospitalization rate was 313.3 per 100,000 population. The Region of the Americas accounts for 48% of all new cases and 42% of all new deaths globally. Deaths decreased in the Eastern Mediterranean Region, and increased in the South-East Asia Region. New deaths have remained stable over the past few weeks. AAP govt. The 1995 Beijing Declaration and Platform for Action remains the world�s most progressive blueprint for advancing gender equality worldwide. This should be enough to vaccinate the country's priority groups this year. But, there are some signs of hope. Many people were struggling – and still are – just to pay for basic necessities, like food and rent. CDC’s Science Briefs summarize the scientific evidence behind specific guidance and recommendations. The Ethics Officer from CRE provided the Members and Advisers with an overview of the WHO Declaration of Interest process. They were additionally reminded of their duty to maintain the confidentiality of the meeting discussions and the work of the Committee. Each member who was present was surveyed and no conflicts of interest were identified. The Coronavirus Pandemic 1 Year On—What Went Wrong? With rampant global circulation, SARS-CoV-2 will have ample opportunity to mutate further. The ethmoids (100 per cent) were the most common sinuses affected. Intra-orbital extension was seen in 43.47 per cent of cases, while intracranial extension was only seen in 8.69 per cent. Diabetes mellitus was present in 21 of 23 cases, and was uncontrolled in 12 cases. Most approved of their state and local officials’ initial responses to the outbreak. Medicines subject of this alert display a similar logo to the outdated WHO Essential Drugs Programme logo. The continued and widespread availability of these falsified medicines highlights a strong need for additional vigilance. Dengue is holoendemic in the Maldives, and dengue viruses circulate throughout the year. This was only the second instance when the number of daily tests crossed the 15-lakh-mark. Keep checking CardioSmart for updates, but for the most up-to-date guidance, go to CDC.gov/Coronavirus. The primary audiences for the guidance are federal/provincial/territorial (FPT) and regional/local public health authorities (PHA). There are exemptions to the entry ban, for example for people travelling from a safe country or people with proof of vaccination or proof of recovery. This proof of vaccination or recovery must meet certain requirements. From 23 March 2022 people travelling to the Netherlands no longer need to show a negative test result.What are Coronaviruses? From there, it has spread to over 192 countries and territories. The pathogen is a coronavirus, a type of virus that typically causes respiratory illness.\n"
     ]
    }
   ],
   "source": [
    "sentences = nltk.sent_tokenize(text)\n",
    "total_documents = len(sentences)\n",
    "\n",
    "freq_matrix = create_frequency_matrix(sentences)\n",
    "\n",
    "tf_matrix = create_tf_matrix(freq_matrix)\n",
    "\n",
    "count_doc_per_words = create_documents_per_words(freq_matrix)\n",
    "\n",
    "idf_matrix = create_idf_matrix(freq_matrix,  count_doc_per_words, total_documents)\n",
    "\n",
    "tf_idf_matrix = create_tf_idf_matrix(tf_matrix, idf_matrix)\n",
    "# print(tf_idf_matrix)\n",
    "\n",
    "sentence_scores = score_sentences(tf_idf_matrix)\n",
    "# print(sentence_scores)\n",
    "\n",
    "threshold = find_average_score(sentence_scores)\n",
    "\n",
    "summary = generate_summary(sentences, sentence_scores, 1.3 * threshold)\n",
    "\n",
    "print(summary)"
   ]
  },
  {
   "cell_type": "code",
   "execution_count": 27,
   "metadata": {},
   "outputs": [],
   "source": [
    "# question answering system\n",
    "\n",
    "import re\n",
    "import string\n",
    "from sklearn.feature_extraction.text import TfidfVectorizer\n",
    "from sklearn.metrics.pairwise import cosine_similarity \n",
    "\n",
    "article_text = text.lower()\n",
    "\n",
    "article_text = re.sub(r'\\[[0-9]*\\]', ' ', article_text)\n",
    "article_text = re.sub(r'\\s+', ' ', article_text)\n",
    "\n",
    "article_sentences = nltk.sent_tokenize(article_text)\n",
    "article_words = nltk.word_tokenize(article_text)\n",
    "\n"
   ]
  },
  {
   "cell_type": "code",
   "execution_count": 28,
   "metadata": {},
   "outputs": [],
   "source": [
    "wnlemmatizer = nltk.stem.WordNetLemmatizer()\n",
    "\n",
    "def perform_lemmatization(tokens):\n",
    "    return [wnlemmatizer.lemmatize(token) for token in tokens]\n",
    "\n",
    "punctuation_removal = dict((ord(punctuation), None) for punctuation in string.punctuation)\n",
    "\n",
    "def get_processed_text(document):\n",
    "    return perform_lemmatization(nltk.word_tokenize(document.lower().translate(punctuation_removal)))"
   ]
  },
  {
   "cell_type": "code",
   "execution_count": 29,
   "metadata": {},
   "outputs": [],
   "source": [
    "def generate_response(user_input):\n",
    "    response = ''\n",
    "    article_sentences.append(user_input)\n",
    "\n",
    "    word_vectorizer = TfidfVectorizer(tokenizer=get_processed_text)\n",
    "    all_word_vectors = word_vectorizer.fit_transform(article_sentences)\n",
    "    similar_vector_values = cosine_similarity(all_word_vectors[-1], all_word_vectors)\n",
    "    similar_sentence_number = similar_vector_values.argsort()[0][-2]\n",
    "\n",
    "    matched_vector = similar_vector_values.flatten()\n",
    "    matched_vector.sort()\n",
    "    vector_matched = matched_vector[-2]\n",
    "\n",
    "    if vector_matched == 0:\n",
    "        response = response + \"I am sorry, no answer found\"\n",
    "        return response\n",
    "    else:\n",
    "        response = response + article_sentences[similar_sentence_number]\n",
    "        return response"
   ]
  },
  {
   "cell_type": "code",
   "execution_count": 30,
   "metadata": {},
   "outputs": [
    {
     "name": "stdout",
     "output_type": "stream",
     "text": [
      "Enter your question: \n",
      "how fifa helped in coronavirus\n",
      "Answer is: \n",
      "�be it through campaigns or funding, fifa has stood up to the coronavirus, and i am delighted that world football is supporting who to kick out the coronavirus.\n",
      "what was the vairant of coronavirus in south africa\n",
      "Answer is: \n",
      "the b.1.1.529 variant was first reported to who from south africa on 24 november 2021. the epidemiological situation in south africa has been characterized by three distinct peaks in reported cases, the latest of which was predominantly the delta variant.\n",
      "how much money was funded by un\n",
      "Answer is: \n",
      "�covid-19 has taken so much from us.\n",
      "\n",
      "Answer is: \n",
      "I am sorry, no answer found\n",
      "exit\n"
     ]
    }
   ],
   "source": [
    "continue_dialogue = True\n",
    "print(\"Enter your question: \")\n",
    "while (continue_dialogue) :\n",
    "    user_input = input().lower()\n",
    "    print(user_input)\n",
    "    if (user_input == 'exit') :\n",
    "        continue_dialogue = False\n",
    "    else :\n",
    "        print(\"Answer is: \")\n",
    "        print(generate_response(user_input))"
   ]
  }
 ],
 "metadata": {
  "interpreter": {
   "hash": "c5e48f84046969b800ff52f6d80523bcd1ca3fb1a99f1449e4197bf6c73dc096"
  },
  "kernelspec": {
   "display_name": "Python 3.9.7 ('base')",
   "language": "python",
   "name": "python3"
  },
  "language_info": {
   "codemirror_mode": {
    "name": "ipython",
    "version": 3
   },
   "file_extension": ".py",
   "mimetype": "text/x-python",
   "name": "python",
   "nbconvert_exporter": "python",
   "pygments_lexer": "ipython3",
   "version": "3.9.7"
  },
  "orig_nbformat": 4
 },
 "nbformat": 4,
 "nbformat_minor": 2
}
